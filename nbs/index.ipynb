{
 "cells": [
  {
   "cell_type": "code",
   "execution_count": null,
   "metadata": {},
   "outputs": [],
   "source": [
    "#| hide\n",
    "from paramfittorchdemo.training import *"
   ]
  },
  {
   "cell_type": "markdown",
   "metadata": {},
   "source": [
    "# paramfittorchdemo\n",
    "\n",
    "> How to use pytorch to fit parameters of differential equations"
   ]
  },
  {
   "cell_type": "markdown",
   "metadata": {},
   "source": []
  },
  {
   "cell_type": "markdown",
   "metadata": {},
   "source": [
    "## Install"
   ]
  },
  {
   "cell_type": "markdown",
   "metadata": {},
   "source": [
    "```sh\n",
    "pip install paramfittorchdemo\n",
    "```"
   ]
  },
  {
   "attachments": {},
   "cell_type": "markdown",
   "metadata": {},
   "source": [
    "\n",
    "\n",
    "You should checkout the writeup on fitting parameters for differential equations using pytorch [here](https://khannay.github.io/paramfittorchdemo/training.html)."
   ]
  },
  {
   "attachments": {},
   "cell_type": "markdown",
   "metadata": {},
   "source": [
    "<p align=\"center\">\n",
    "<img align=\"middle\" src=\"./images/vdp.gif\" alt=\"VDP Gif\" width=\"500\" height=\"250\" />\n",
    "</p>\n",
    "\n",
    "<p align=\"center\">\n",
    "<img align=\"middle\" src=\"./images/lotkavolterra.gif\" alt=\"VDP Gif\" width=\"500\" height=\"250\" />\n",
    "</p>\n",
    "\n",
    "<p align=\"center\">\n",
    "<img align=\"middle\" src=\"./images/nde.gif\" alt=\"VDP Gif\" width=\"500\" height=\"250\" />\n",
    "</p>\n",
    "\n",
    "\n"
   ]
  }
 ],
 "metadata": {
  "kernelspec": {
   "display_name": "python3",
   "language": "python",
   "name": "python3"
  }
 },
 "nbformat": 4,
 "nbformat_minor": 4
}
